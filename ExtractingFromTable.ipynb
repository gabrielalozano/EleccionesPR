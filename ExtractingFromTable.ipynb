{
 "cells": [
  {
   "cell_type": "code",
   "execution_count": 14,
   "metadata": {},
   "outputs": [],
   "source": [
    "from docx import Document\n",
    "import pandas as pd\n",
    "document = Document(\"eleccciones20162.docx\")\n",
    "tables = []\n",
    "for index,table in enumerate(document.tables):\n",
    "    df = [['' for i in range(len(table.columns))] for j in range(len(table.rows))]\n",
    "    for i, row in enumerate(table.rows):\n",
    "        for j, cell in enumerate(row.cells):\n",
    "            df[i][j] = cell.text\n",
    "        pd.DataFrame(df).to_excel(\"Table# \"+str(index)+\".xlsx\")"
   ]
  },
  {
   "cell_type": "code",
   "execution_count": 15,
   "metadata": {},
   "outputs": [],
   "source": [
    "pd.DataFrame(df).to_csv(\"elec20162.csv\")"
   ]
  },
  {
   "cell_type": "code",
   "execution_count": 4,
   "metadata": {},
   "outputs": [
    {
     "name": "stderr",
     "output_type": "stream",
     "text": [
      "ERROR: Could not find a version that satisfies the requirement exceptions (from versions: none)\n",
      "ERROR: No matching distribution found for exceptions\n"
     ]
    }
   ],
   "source": [
    "!pip install exceptions"
   ]
  },
  {
   "cell_type": "code",
   "execution_count": 6,
   "metadata": {},
   "outputs": [
    {
     "name": "stdout",
     "output_type": "stream",
     "text": [
      "Collecting python-docx\n",
      "  Downloading python-docx-0.8.10.tar.gz (5.5 MB)\n",
      "Requirement already satisfied: lxml>=2.3.2 in c:\\users\\gabriela\\anaconda3\\lib\\site-packages (from python-docx) (4.2.1)\n",
      "Building wheels for collected packages: python-docx\n",
      "  Building wheel for python-docx (setup.py): started\n",
      "  Building wheel for python-docx (setup.py): finished with status 'done'\n",
      "  Created wheel for python-docx: filename=python_docx-0.8.10-py3-none-any.whl size=183656 sha256=57f591e1ab27cae2b204a503c692f0f78eff510db96032f9f39f5be59aa6a02e\n",
      "  Stored in directory: c:\\users\\gabriela\\appdata\\local\\pip\\cache\\wheels\\83\\84\\21\\ca046018e83edef96581a58f9dde2ac3b0d2919d624f0663d9\n",
      "Successfully built python-docx\n",
      "Installing collected packages: python-docx\n",
      "Successfully installed python-docx-0.8.10\n"
     ]
    }
   ],
   "source": [
    "!pip install python-docx"
   ]
  }
 ],
 "metadata": {
  "kernelspec": {
   "display_name": "Python 3",
   "language": "python",
   "name": "python3"
  },
  "language_info": {
   "codemirror_mode": {
    "name": "ipython",
    "version": 3
   },
   "file_extension": ".py",
   "mimetype": "text/x-python",
   "name": "python",
   "nbconvert_exporter": "python",
   "pygments_lexer": "ipython3",
   "version": "3.6.5"
  }
 },
 "nbformat": 4,
 "nbformat_minor": 2
}
